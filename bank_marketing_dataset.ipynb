import numpy as np
import pandas as pd
import matplotlib.pyplot as plt
from sklearn import metrics, preprocessing
from sklearn.tree import DecisionTreeClassifier

# read training data
bank_train = pd.read_csv("/data/training/bank_train.csv")

# read test data
bank_test = pd.read_csv("/data/test/bank_test.csv")

print(bank_train.head())
print(bank_test.head())

############################
### WRITE YOUR CODE HERE ###
############################

# Build the model 
# Create a decision tree object with default hyperparameters
tree = DecisionTreeClassifier(max_depth=5)

# Train the model
print(bank_train.columns)

# Create x_train: Drop the columns 'purchased' (target) and 'id'
x_train = bank_train.drop(['purchased', 'id'], axis=1)

# Create y_train
y_train = bank_train['purchased']

# Fit the model
tree.fit(x_train, y_train)

#  Make predictions using test data
print(bank_test.head())

# remember to drop 'id' from the test dataset 
predictions = tree.predict(bank_test.drop(['id'], axis=1))
print(predictions[:5])

# Write the columns 'id' and 'predictions' into the output file
d = pd.DataFrame({'id': bank_test['id'], 'bank_predicted': predictions})

# Write the output
d.to_csv('/code/output/bank_predictions.csv', sep=",")
